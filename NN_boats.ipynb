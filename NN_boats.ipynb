{
  "nbformat": 4,
  "nbformat_minor": 0,
  "metadata": {
    "colab": {
      "name": "NN_boats.ipynb",
      "provenance": [],
      "collapsed_sections": [],
      "mount_file_id": "1T704nvB2Ecz4rA5JbKqCxunY6dTWLoNh",
      "authorship_tag": "ABX9TyOgsK2LWAqUQYIkgaQPzuQj",
      "include_colab_link": true
    },
    "kernelspec": {
      "name": "python3",
      "display_name": "Python 3"
    },
    "language_info": {
      "name": "python"
    },
    "accelerator": "GPU"
  },
  "cells": [
    {
      "cell_type": "markdown",
      "metadata": {
        "id": "view-in-github",
        "colab_type": "text"
      },
      "source": [
        "<a href=\"https://colab.research.google.com/github/mirovix/CV_final_project/blob/main/NN_boats.ipynb\" target=\"_parent\"><img src=\"https://colab.research.google.com/assets/colab-badge.svg\" alt=\"Open In Colab\"/></a>"
      ]
    },
    {
      "cell_type": "code",
      "metadata": {
        "id": "MFtjNmc4faB5"
      },
      "source": [
        "import json\n",
        "import io\n",
        "from google.colab import drive\n",
        "from google.colab import files\n",
        "from tensorflow.keras.preprocessing.image import load_img\n",
        "from tensorflow.keras.preprocessing.image import img_to_array\n",
        "from sklearn.model_selection import train_test_split\n",
        "import matplotlib.pyplot as plt\n",
        "import numpy as np\n",
        "import glob\n",
        "import cv2\n",
        "import tensorflow as tf\n",
        "from tensorflow import keras\n",
        "import matplotlib.pyplot as plt\n",
        "\n",
        "np.random.seed(42)"
      ],
      "execution_count": 46,
      "outputs": []
    },
    {
      "cell_type": "code",
      "metadata": {
        "id": "s6PawTwU0m99",
        "colab": {
          "base_uri": "https://localhost:8080/"
        },
        "outputId": "861d88ee-c91a-43c1-ec63-933e31efb429"
      },
      "source": [
        "drive.mount('/content/drive')\n",
        "\n",
        "with open('/content/drive/MyDrive/dataset_boats/label.json') as json_file:\n",
        "    json_file = json.load(json_file)\n",
        "\n",
        "#print(len(json_file[30]['Label']))\n",
        "\n",
        "x_start, y_start, x_end, y_end = [],[],[],[]\n",
        "data,targets = [],[]\n",
        "width = 32\n",
        "height = 32\n",
        "\n",
        "for row in json_file:\n",
        "\n",
        "  if(len(row['Label']) == 0):\n",
        "    continue\n",
        "\n",
        "  x_start = float(row['Label']['objects'][0]['bbox']['left'])\n",
        "  y_start = float(row['Label']['objects'][0]['bbox']['top'])\n",
        "  x_end = float(row['Label']['objects'][0]['bbox']['left'] + row['Label']['objects'][0]['bbox']['width'])\n",
        "  y_end = float(row['Label']['objects'][0]['bbox']['top'] + row['Label']['objects'][0]['bbox']['height'])\n",
        "  \n",
        "  image_path = \"/content/drive/MyDrive/dataset_boats/train/\" + row['External ID']\n",
        "  cv_image = cv2.imread(image_path)\n",
        "\n",
        "  x_start = (width * x_start) / cv_image.shape[1]\n",
        "  y_start = (height * y_start) / cv_image.shape[0]\n",
        "  x_end = (width * x_end) / cv_image.shape[1]\n",
        "  y_end = (height * y_end) / cv_image.shape[0]\n",
        "  targets.append((x_start, y_start, x_end, y_end))\n",
        "\n",
        "  cv_image = cv2.resize(cv_image, (height, width))\n",
        "  data.append(img_to_array(cv_image))\n",
        "  \n",
        "\n",
        "\n",
        "print(len(data))"
      ],
      "execution_count": 47,
      "outputs": [
        {
          "output_type": "stream",
          "text": [
            "Drive already mounted at /content/drive; to attempt to forcibly remount, call drive.mount(\"/content/drive\", force_remount=True).\n",
            "853\n"
          ],
          "name": "stdout"
        }
      ]
    },
    {
      "cell_type": "code",
      "metadata": {
        "id": "2HUTs1SzS2sO",
        "colab": {
          "base_uri": "https://localhost:8080/"
        },
        "outputId": "2c82c854-6021-4586-bd99-3c7abc3d0ac4"
      },
      "source": [
        "print(cv_image.shape[0])\n",
        "print(cv_image.shape[1])\n"
      ],
      "execution_count": 48,
      "outputs": [
        {
          "output_type": "stream",
          "text": [
            "32\n",
            "32\n"
          ],
          "name": "stdout"
        }
      ]
    },
    {
      "cell_type": "code",
      "metadata": {
        "id": "VGrgVOV15LPr"
      },
      "source": [
        "# convert the data and targets to NumPy arrays, scaling the input\n",
        "# pixel intensities from the range [0, 255] to [0, 1]\n",
        "#data = np.array(data, dtype=\"float32\") / 255.0\n",
        "#targets = np.array(targets, dtype=\"float32\")\n",
        "# partition the data into training and testing splits using 90% of\n",
        "# the data for training and the remaining 10% for testing\n",
        "data = np.array(data, dtype=\"float32\") / 255\n",
        "targets = np.array(targets, dtype=\"float32\") / 255\n",
        "\n",
        "X_train, X_test, y_train, y_test = train_test_split(data, targets, test_size=0.15)\n",
        "X_train, X_val, y_train, y_val  = train_test_split(X_train, y_train, test_size=0.25) # 0.25 x (1 - 0.15) = 0.2125"
      ],
      "execution_count": 49,
      "outputs": []
    },
    {
      "cell_type": "code",
      "metadata": {
        "id": "snI7umSdW1Dx"
      },
      "source": [
        "mean = np.mean(X_train, axis = 0)\n",
        "std = np.std(X_train, axis = 0)\n",
        "\n",
        "X_train = (X_train - mean) /  std\n",
        "X_val = (X_val - mean) /  std\n",
        "X_test = (X_test - mean) /  std"
      ],
      "execution_count": 50,
      "outputs": []
    },
    {
      "cell_type": "code",
      "metadata": {
        "id": "8Bdk2go053ao"
      },
      "source": [
        "def plot_loss(history):\n",
        "  plt.figure(figsize=(10,6))\n",
        "  plt.plot(history.epoch,history.history['loss'])\n",
        "  plt.plot(history.epoch,history.history['val_loss'])\n",
        "  plt.title('loss')\n",
        "\n",
        "def plot_accuracy(history):\n",
        "  plt.figure(figsize=(10,6))\n",
        "  plt.plot(history.epoch,history.history['accuracy'])\n",
        "  plt.plot(history.epoch,history.history['val_accuracy'])\n",
        "  plt.title('accuracy')"
      ],
      "execution_count": 51,
      "outputs": []
    },
    {
      "cell_type": "code",
      "metadata": {
        "id": "iA46MLaz56JY",
        "colab": {
          "base_uri": "https://localhost:8080/",
          "height": 1000
        },
        "outputId": "d5429f89-5bf8-4afa-e881-d73246a542b6"
      },
      "source": [
        "model = keras.models.Sequential([\n",
        "    keras.layers.Conv2D(filters=256, kernel_size=[3,3], activation='relu', input_shape=[height, width, 3]),\n",
        "    keras.layers.BatchNormalization(),\n",
        "    keras.layers.MaxPool2D(pool_size=[2,2]),\n",
        "    keras.layers.Conv2D(filters=128, kernel_size=[2,2], activation='relu'),\n",
        "    keras.layers.BatchNormalization(),\n",
        "    keras.layers.MaxPool2D(pool_size=[2,2]),\n",
        "    keras.layers.Conv2D(filters=64, kernel_size=[2,2], activation='relu'),\n",
        "    keras.layers.BatchNormalization(),\n",
        "    keras.layers.MaxPool2D(pool_size=[2,2]),\n",
        "    keras.layers.Conv2D(filters=32, kernel_size=[2,2], activation='relu'),\n",
        "    keras.layers.BatchNormalization(),\n",
        "    keras.layers.Conv2D(filters=16, kernel_size=[2,2], activation='relu'),\n",
        "    keras.layers.BatchNormalization(),\n",
        "    keras.layers.Flatten(),\n",
        "    keras.layers.Dense(4, activation=\"sigmoid\")\n",
        "  ])\n",
        "\n",
        "model.compile(loss=\"mse\", optimizer=\"adam\", metrics=[\"accuracy\"])\n",
        "  \n",
        "print(model.summary())\n",
        "\n",
        "history = model.fit(X_train, y_train, epochs=50, batch_size=4 ,validation_data=(X_val, y_val))\n",
        "\n",
        "plot_loss(history)\n",
        "plot_accuracy(history)\n",
        "\n",
        "scores = model.evaluate(X_test, y_test, verbose=2)\n",
        "print(\" %s: %.2f%%\" % (model.metrics_names[1], scores[1]*100))\n",
        "print(\"----------------------------\")"
      ],
      "execution_count": 52,
      "outputs": [
        {
          "output_type": "stream",
          "text": [
            "Model: \"sequential_14\"\n",
            "_________________________________________________________________\n",
            "Layer (type)                 Output Shape              Param #   \n",
            "=================================================================\n",
            "conv2d_64 (Conv2D)           (None, 30, 30, 256)       7168      \n",
            "_________________________________________________________________\n",
            "batch_normalization_64 (Batc (None, 30, 30, 256)       1024      \n",
            "_________________________________________________________________\n",
            "max_pooling2d_46 (MaxPooling (None, 15, 15, 256)       0         \n",
            "_________________________________________________________________\n",
            "conv2d_65 (Conv2D)           (None, 14, 14, 128)       131200    \n",
            "_________________________________________________________________\n",
            "batch_normalization_65 (Batc (None, 14, 14, 128)       512       \n",
            "_________________________________________________________________\n",
            "max_pooling2d_47 (MaxPooling (None, 7, 7, 128)         0         \n",
            "_________________________________________________________________\n",
            "conv2d_66 (Conv2D)           (None, 6, 6, 64)          32832     \n",
            "_________________________________________________________________\n",
            "batch_normalization_66 (Batc (None, 6, 6, 64)          256       \n",
            "_________________________________________________________________\n",
            "max_pooling2d_48 (MaxPooling (None, 3, 3, 64)          0         \n",
            "_________________________________________________________________\n",
            "conv2d_67 (Conv2D)           (None, 2, 2, 32)          8224      \n",
            "_________________________________________________________________\n",
            "batch_normalization_67 (Batc (None, 2, 2, 32)          128       \n",
            "_________________________________________________________________\n",
            "conv2d_68 (Conv2D)           (None, 1, 1, 16)          2064      \n",
            "_________________________________________________________________\n",
            "batch_normalization_68 (Batc (None, 1, 1, 16)          64        \n",
            "_________________________________________________________________\n",
            "flatten_14 (Flatten)         (None, 16)                0         \n",
            "_________________________________________________________________\n",
            "dense_14 (Dense)             (None, 4)                 68        \n",
            "=================================================================\n",
            "Total params: 183,540\n",
            "Trainable params: 182,548\n",
            "Non-trainable params: 992\n",
            "_________________________________________________________________\n",
            "None\n",
            "Epoch 1/50\n",
            "136/136 [==============================] - 2s 8ms/step - loss: 0.1945 - accuracy: 0.2652 - val_loss: 0.1479 - val_accuracy: 0.1593\n",
            "Epoch 2/50\n",
            "136/136 [==============================] - 1s 6ms/step - loss: 0.0961 - accuracy: 0.3297 - val_loss: 0.0606 - val_accuracy: 0.4066\n",
            "Epoch 3/50\n",
            "136/136 [==============================] - 1s 6ms/step - loss: 0.0294 - accuracy: 0.3517 - val_loss: 0.0144 - val_accuracy: 0.3956\n",
            "Epoch 4/50\n",
            "136/136 [==============================] - 1s 6ms/step - loss: 0.0087 - accuracy: 0.4199 - val_loss: 0.0051 - val_accuracy: 0.4341\n",
            "Epoch 5/50\n",
            "136/136 [==============================] - 1s 6ms/step - loss: 0.0035 - accuracy: 0.4236 - val_loss: 0.0019 - val_accuracy: 0.5000\n",
            "Epoch 6/50\n",
            "136/136 [==============================] - 1s 6ms/step - loss: 0.0018 - accuracy: 0.4770 - val_loss: 0.0011 - val_accuracy: 0.5275\n",
            "Epoch 7/50\n",
            "136/136 [==============================] - 1s 6ms/step - loss: 0.0012 - accuracy: 0.5414 - val_loss: 8.9462e-04 - val_accuracy: 0.6154\n",
            "Epoch 8/50\n",
            "136/136 [==============================] - 1s 6ms/step - loss: 9.3381e-04 - accuracy: 0.5709 - val_loss: 7.2160e-04 - val_accuracy: 0.6154\n",
            "Epoch 9/50\n",
            "136/136 [==============================] - 1s 6ms/step - loss: 8.2746e-04 - accuracy: 0.6041 - val_loss: 6.2623e-04 - val_accuracy: 0.6484\n",
            "Epoch 10/50\n",
            "136/136 [==============================] - 1s 6ms/step - loss: 8.3237e-04 - accuracy: 0.5948 - val_loss: 5.4929e-04 - val_accuracy: 0.6593\n",
            "Epoch 11/50\n",
            "136/136 [==============================] - 1s 6ms/step - loss: 7.3640e-04 - accuracy: 0.6280 - val_loss: 4.7879e-04 - val_accuracy: 0.6978\n",
            "Epoch 12/50\n",
            "136/136 [==============================] - 1s 6ms/step - loss: 6.5734e-04 - accuracy: 0.6446 - val_loss: 4.5639e-04 - val_accuracy: 0.6593\n",
            "Epoch 13/50\n",
            "136/136 [==============================] - 1s 6ms/step - loss: 6.7250e-04 - accuracy: 0.6648 - val_loss: 4.3522e-04 - val_accuracy: 0.6538\n",
            "Epoch 14/50\n",
            "136/136 [==============================] - 1s 6ms/step - loss: 5.4608e-04 - accuracy: 0.6243 - val_loss: 3.9874e-04 - val_accuracy: 0.7088\n",
            "Epoch 15/50\n",
            "136/136 [==============================] - 1s 6ms/step - loss: 5.2020e-04 - accuracy: 0.6759 - val_loss: 4.0688e-04 - val_accuracy: 0.7473\n",
            "Epoch 16/50\n",
            "136/136 [==============================] - 1s 6ms/step - loss: 5.9159e-04 - accuracy: 0.6169 - val_loss: 4.2963e-04 - val_accuracy: 0.6758\n",
            "Epoch 17/50\n",
            "136/136 [==============================] - 1s 6ms/step - loss: 4.9888e-04 - accuracy: 0.6243 - val_loss: 3.7306e-04 - val_accuracy: 0.6758\n",
            "Epoch 18/50\n",
            "136/136 [==============================] - 1s 6ms/step - loss: 4.8411e-04 - accuracy: 0.6483 - val_loss: 4.0513e-04 - val_accuracy: 0.6648\n",
            "Epoch 19/50\n",
            "136/136 [==============================] - 1s 6ms/step - loss: 4.4435e-04 - accuracy: 0.6759 - val_loss: 3.4042e-04 - val_accuracy: 0.6813\n",
            "Epoch 20/50\n",
            "136/136 [==============================] - 1s 6ms/step - loss: 3.9885e-04 - accuracy: 0.6390 - val_loss: 3.4320e-04 - val_accuracy: 0.7143\n",
            "Epoch 21/50\n",
            "136/136 [==============================] - 1s 6ms/step - loss: 4.2687e-04 - accuracy: 0.6556 - val_loss: 3.0413e-04 - val_accuracy: 0.6593\n",
            "Epoch 22/50\n",
            "136/136 [==============================] - 1s 6ms/step - loss: 4.1225e-04 - accuracy: 0.6427 - val_loss: 2.7168e-04 - val_accuracy: 0.7143\n",
            "Epoch 23/50\n",
            "136/136 [==============================] - 1s 6ms/step - loss: 3.8360e-04 - accuracy: 0.6777 - val_loss: 2.7948e-04 - val_accuracy: 0.7088\n",
            "Epoch 24/50\n",
            "136/136 [==============================] - 1s 6ms/step - loss: 3.8413e-04 - accuracy: 0.6924 - val_loss: 2.3865e-04 - val_accuracy: 0.7088\n",
            "Epoch 25/50\n",
            "136/136 [==============================] - 1s 6ms/step - loss: 4.0678e-04 - accuracy: 0.6372 - val_loss: 2.3244e-04 - val_accuracy: 0.7033\n",
            "Epoch 26/50\n",
            "136/136 [==============================] - 1s 6ms/step - loss: 3.4646e-04 - accuracy: 0.6924 - val_loss: 2.2170e-04 - val_accuracy: 0.7033\n",
            "Epoch 27/50\n",
            "136/136 [==============================] - 1s 6ms/step - loss: 3.4282e-04 - accuracy: 0.6924 - val_loss: 2.2509e-04 - val_accuracy: 0.7088\n",
            "Epoch 28/50\n",
            "136/136 [==============================] - 1s 6ms/step - loss: 3.5139e-04 - accuracy: 0.6998 - val_loss: 2.1849e-04 - val_accuracy: 0.7143\n",
            "Epoch 29/50\n",
            "136/136 [==============================] - 1s 6ms/step - loss: 3.1568e-04 - accuracy: 0.6869 - val_loss: 1.9534e-04 - val_accuracy: 0.7637\n",
            "Epoch 30/50\n",
            "136/136 [==============================] - 1s 6ms/step - loss: 3.1999e-04 - accuracy: 0.7090 - val_loss: 2.1456e-04 - val_accuracy: 0.7418\n",
            "Epoch 31/50\n",
            "136/136 [==============================] - 1s 6ms/step - loss: 2.9086e-04 - accuracy: 0.6998 - val_loss: 1.8003e-04 - val_accuracy: 0.8132\n",
            "Epoch 32/50\n",
            "136/136 [==============================] - 1s 6ms/step - loss: 3.0369e-04 - accuracy: 0.7145 - val_loss: 2.2400e-04 - val_accuracy: 0.7527\n",
            "Epoch 33/50\n",
            "136/136 [==============================] - 1s 6ms/step - loss: 2.9838e-04 - accuracy: 0.7090 - val_loss: 1.7866e-04 - val_accuracy: 0.7582\n",
            "Epoch 34/50\n",
            "136/136 [==============================] - 1s 6ms/step - loss: 2.6986e-04 - accuracy: 0.7017 - val_loss: 1.6518e-04 - val_accuracy: 0.8022\n",
            "Epoch 35/50\n",
            "136/136 [==============================] - 1s 6ms/step - loss: 2.6520e-04 - accuracy: 0.7017 - val_loss: 1.6573e-04 - val_accuracy: 0.8242\n",
            "Epoch 36/50\n",
            "136/136 [==============================] - 1s 6ms/step - loss: 2.5933e-04 - accuracy: 0.7238 - val_loss: 1.5721e-04 - val_accuracy: 0.8187\n",
            "Epoch 37/50\n",
            "136/136 [==============================] - 1s 6ms/step - loss: 2.6041e-04 - accuracy: 0.7293 - val_loss: 1.6643e-04 - val_accuracy: 0.8187\n",
            "Epoch 38/50\n",
            "136/136 [==============================] - 1s 6ms/step - loss: 2.8098e-04 - accuracy: 0.7072 - val_loss: 1.5395e-04 - val_accuracy: 0.8462\n",
            "Epoch 39/50\n",
            "136/136 [==============================] - 1s 6ms/step - loss: 2.4306e-04 - accuracy: 0.7311 - val_loss: 1.3979e-04 - val_accuracy: 0.8462\n",
            "Epoch 40/50\n",
            "136/136 [==============================] - 1s 6ms/step - loss: 2.6270e-04 - accuracy: 0.7219 - val_loss: 1.4659e-04 - val_accuracy: 0.8571\n",
            "Epoch 41/50\n",
            "136/136 [==============================] - 1s 6ms/step - loss: 2.4659e-04 - accuracy: 0.7661 - val_loss: 1.4592e-04 - val_accuracy: 0.8407\n",
            "Epoch 42/50\n",
            "136/136 [==============================] - 1s 6ms/step - loss: 2.9353e-04 - accuracy: 0.7366 - val_loss: 2.1361e-04 - val_accuracy: 0.7198\n",
            "Epoch 43/50\n",
            "136/136 [==============================] - 1s 6ms/step - loss: 2.9104e-04 - accuracy: 0.6961 - val_loss: 1.7724e-04 - val_accuracy: 0.7527\n",
            "Epoch 44/50\n",
            "136/136 [==============================] - 1s 6ms/step - loss: 2.5313e-04 - accuracy: 0.7459 - val_loss: 1.6034e-04 - val_accuracy: 0.8022\n",
            "Epoch 45/50\n",
            "136/136 [==============================] - 1s 6ms/step - loss: 2.5947e-04 - accuracy: 0.7495 - val_loss: 1.4261e-04 - val_accuracy: 0.8187\n",
            "Epoch 46/50\n",
            "136/136 [==============================] - 1s 6ms/step - loss: 2.4520e-04 - accuracy: 0.7201 - val_loss: 1.5205e-04 - val_accuracy: 0.8022\n",
            "Epoch 47/50\n",
            "136/136 [==============================] - 1s 6ms/step - loss: 2.4974e-04 - accuracy: 0.7495 - val_loss: 1.5998e-04 - val_accuracy: 0.7912\n",
            "Epoch 48/50\n",
            "136/136 [==============================] - 1s 6ms/step - loss: 2.4808e-04 - accuracy: 0.7716 - val_loss: 1.3580e-04 - val_accuracy: 0.8187\n",
            "Epoch 49/50\n",
            "136/136 [==============================] - 1s 6ms/step - loss: 2.5181e-04 - accuracy: 0.7772 - val_loss: 1.4778e-04 - val_accuracy: 0.7747\n",
            "Epoch 50/50\n",
            "136/136 [==============================] - 1s 6ms/step - loss: 2.2540e-04 - accuracy: 0.7643 - val_loss: 1.3645e-04 - val_accuracy: 0.7857\n",
            "4/4 - 0s - loss: 1.7157e-04 - accuracy: 0.7500\n",
            " accuracy: 75.00%\n",
            "----------------------------\n"
          ],
          "name": "stdout"
        },
        {
          "output_type": "display_data",
          "data": {
            "image/png": "[encoded data removed]",
            "text/plain": [
              "<Figure size 720x432 with 1 Axes>"
            ]
          },
          "metadata": {
            "tags": [],
            "needs_background": "light"
          }
        },
        {
          "output_type": "display_data",
          "data": {
            "image/png": "[encoded data removed]",
            "text/plain": [
              "<Figure size 720x432 with 1 Axes>"
            ]
          },
          "metadata": {
            "tags": [],
            "needs_background": "light"
          }
        }
      ]
    }
  ]
}