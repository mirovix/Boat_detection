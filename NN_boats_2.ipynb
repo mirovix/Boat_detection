{
  "nbformat": 4,
  "nbformat_minor": 0,
  "metadata": {
    "colab": {
      "name": "NN_boats_2.ipynb",
      "provenance": [],
      "collapsed_sections": [],
      "mount_file_id": "1F8SaYI2EK1-jaNoGeag3Kp2CwnWDJjw5",
      "authorship_tag": "ABX9TyNYhvDCPhr/zVof6iBcExgq",
      "include_colab_link": true
    },
    "kernelspec": {
      "name": "python3",
      "display_name": "Python 3"
    },
    "language_info": {
      "name": "python"
    },
    "accelerator": "GPU"
  },
  "cells": [
    {
      "cell_type": "markdown",
      "metadata": {
        "id": "view-in-github",
        "colab_type": "text"
      },
      "source": [
        "<a href=\"https://colab.research.google.com/github/mirovix/CV_final_project/blob/main/NN_boats_2.ipynb\" target=\"_parent\"><img src=\"https://colab.research.google.com/assets/colab-badge.svg\" alt=\"Open In Colab\"/></a>"
      ]
    },
    {
      "cell_type": "code",
      "metadata": {
        "id": "GPKlOJ-J-juS"
      },
      "source": [
        "# import the necessary packages\n",
        "from tensorflow.keras.applications import ResNet50\n",
        "from tensorflow.keras.applications.resnet50 import preprocess_input\n",
        "from tensorflow.keras.applications import imagenet_utils\n",
        "from tensorflow.keras.preprocessing.image import img_to_array\n",
        "from imutils.object_detection import non_max_suppression\n",
        "import numpy as np\n",
        "import argparse\n",
        "import cv2\n",
        "from google.colab.patches import cv2_imshow\n",
        "from google.colab import drive\n",
        "from google.colab import files\n",
        "import json\n",
        "import io\n",
        "import matplotlib.pyplot as plt\n",
        "from google.colab.patches import cv2_imshow\n",
        "\n",
        "\n",
        "np.random.seed(42)"
      ],
      "execution_count": 2,
      "outputs": []
    },
    {
      "cell_type": "code",
      "metadata": {
        "id": "8Dl3qa3rGHSZ"
      },
      "source": [
        "def selective_search(image, method=\"fast\"):\n",
        "\t# initialize OpenCV's selective search implementation and set the\n",
        "\t# input image\n",
        "\tss = cv2.ximgproc.segmentation.createSelectiveSearchSegmentation()\n",
        "\tss.setBaseImage(image)\n",
        "\t# check to see if we are using the *fast* but *less accurate* version\n",
        "\t# of selective search\n",
        "\tif method == \"fast\":\n",
        "\t\tss.switchToSelectiveSearchFast()\n",
        "\t# otherwise we are using the *slower* but *more accurate* version\n",
        "\telse:\n",
        "\t\tss.switchToSelectiveSearchQuality()\n",
        "\t# run selective search on the input image\n",
        "\trects = ss.process()\n",
        "\t# return the region proposal bounding boxes\n",
        "\treturn rects"
      ],
      "execution_count": 3,
      "outputs": []
    },
    {
      "cell_type": "code",
      "metadata": {
        "id": "2yIWKw1rGK5G"
      },
      "source": [
        "def get_iou(bb1, bb2):\n",
        "    assert bb1['x1'] < bb1['x2']\n",
        "    assert bb1['y1'] < bb1['y2']\n",
        "    assert bb2['x1'] < bb2['x2']\n",
        "    assert bb2['y1'] < bb2['y2']\n",
        "    x_left = max(bb1['x1'], bb2['x1'])\n",
        "    y_top = max(bb1['y1'], bb2['y1'])\n",
        "    x_right = min(bb1['x2'], bb2['x2'])\n",
        "    y_bottom = min(bb1['y2'], bb2['y2'])\n",
        "    if x_right < x_left or y_bottom < y_top:\n",
        "        return 0.0\n",
        "    intersection_area = (x_right - x_left) * (y_bottom - y_top)\n",
        "    bb1_area = (bb1['x2'] - bb1['x1']) * (bb1['y2'] - bb1['y1'])\n",
        "    bb2_area = (bb2['x2'] - bb2['x1']) * (bb2['y2'] - bb2['y1'])\n",
        "    iou = intersection_area / float(bb1_area + bb2_area - intersection_area)\n",
        "    assert iou >= 0.0\n",
        "    assert iou <= 1.0\n",
        "    return iou"
      ],
      "execution_count": 4,
      "outputs": []
    },
    {
      "cell_type": "code",
      "metadata": {
        "id": "MFv0COpUNu9m"
      },
      "source": [
        "def plot_loss(history):\n",
        "  plt.figure(figsize=(10,6))\n",
        "  plt.plot(history.epoch,history.history['loss'])\n",
        "  plt.plot(history.epoch,history.history['val_loss'])\n",
        "  plt.title('loss')\n",
        "\n",
        "def plot_accuracy(history):\n",
        "  plt.figure(figsize=(10,6))\n",
        "  plt.plot(history.epoch,history.history['accuracy'])\n",
        "  plt.plot(history.epoch,history.history['val_accuracy'])\n",
        "  plt.title('accuracy')"
      ],
      "execution_count": 5,
      "outputs": []
    },
    {
      "cell_type": "code",
      "metadata": {
        "colab": {
          "base_uri": "https://localhost:8080/"
        },
        "id": "lOuIi8zNsGlf",
        "outputId": "a1bcad2b-5abb-4dd7-d882-7ef844074e40"
      },
      "source": [
        "ss = cv2.ximgproc.segmentation.createSelectiveSearchSegmentation()\n",
        "drive.mount('/content/drive')\n",
        "\n",
        "with open('/content/drive/MyDrive/dataset_boats/label_multi.json') as json_file:\n",
        "    json_file = json.load(json_file)\n",
        "\n",
        "data,targets = [],[]\n",
        "width = 80\n",
        "height = 80\n",
        "i=1\n",
        "train_images=[]\n",
        "train_labels=[]\n",
        "\n",
        "for row in json_file:\n",
        "  \n",
        "  if(i==250):\n",
        "    break\n",
        "  if(i%20==0):\n",
        "    print(i)\n",
        "  i=i+1\n",
        "  gtvalues=[]\n",
        "  for col in row['Label']['objects']:\n",
        "    if(len(row['Label']) != 0):\n",
        "      x_start = int(col['bbox']['left'])\n",
        "      y_start = int(col['bbox']['top'])\n",
        "      x_end = int(col['bbox']['left'] + col['bbox']['width'])\n",
        "      y_end = int(col['bbox']['top'] + col['bbox']['height'])\n",
        "      gtvalues.append({\"x1\":x_start,\"x2\":x_end,\"y1\":y_start,\"y2\":y_end})\n",
        "\n",
        "  image_path = \"/content/drive/MyDrive/dataset_boats/train/\" + row['External ID']\n",
        "  cv_image = cv2.imread(image_path)\n",
        "\n",
        "  ss.setBaseImage(cv_image)\n",
        "  ss.switchToSelectiveSearchFast()\n",
        "  ssresults = ss.process()\n",
        "  imout = cv_image.copy()\n",
        "  counter = 0\n",
        "  falsecounter = 0\n",
        "  flag = 0\n",
        "  fflag = 0\n",
        "  bflag = 0\n",
        "  for e,result in enumerate(ssresults):\n",
        "    if e < 2000 and flag == 0:\n",
        "      for gtval in gtvalues:\n",
        "        x, y, w, h = result\n",
        "        iou = get_iou(gtval,{\"x1\":x,\"x2\":x+w,\"y1\":y,\"y2\":y+h})\n",
        "        if counter < 25:\n",
        "          if iou > 0.75:\n",
        "            timage = imout[y:y+h,x:x+w]\n",
        "            resized = cv2.resize(timage, (224,224), interpolation = cv2.INTER_AREA)\n",
        "            train_images.append(resized)\n",
        "            train_labels.append(1)\n",
        "            counter += 1\n",
        "        else :\n",
        "          fflag =1\n",
        "        if falsecounter <30:\n",
        "          if iou < 0.3:\n",
        "            timage = imout[y:y+h,x:x+w]\n",
        "            resized = cv2.resize(timage, (224,224), interpolation = cv2.INTER_AREA)\n",
        "            train_images.append(resized)\n",
        "            train_labels.append(0)\n",
        "            falsecounter += 1\n",
        "        else :\n",
        "          bflag = 1\n",
        "      if fflag == 1 and bflag == 1:\n",
        "        #print(\"inside\")\n",
        "        flag = 1\n",
        "\n",
        "#print(gtvalues) \n",
        "print(len(train_images))"
      ],
      "execution_count": null,
      "outputs": [
        {
          "output_type": "stream",
          "text": [
            "Drive already mounted at /content/drive; to attempt to forcibly remount, call drive.mount(\"/content/drive\", force_remount=True).\n",
            "20\n",
            "40\n",
            "60\n",
            "80\n",
            "100\n",
            "120\n"
          ],
          "name": "stdout"
        }
      ]
    },
    {
      "cell_type": "code",
      "metadata": {
        "id": "Fx4j6Hs18QOr"
      },
      "source": [
        "X_new = np.array(train_images)\n",
        "y_new = np.array(train_labels)\n",
        "\n",
        "from keras.applications.vgg16 import VGG16\n",
        "from keras.layers import Dense\n",
        "from keras import Model\n",
        "from keras import optimizers\n",
        "from keras.preprocessing.image import ImageDataGenerator\n",
        "from keras.optimizers import Adam\n",
        "\n",
        "vggmodel = VGG16(weights='imagenet', include_top=True)\n",
        "\n",
        "for layers in (vggmodel.layers)[:15]:\n",
        "    print(layers)\n",
        "    layers.trainable = False\n",
        "\n",
        "X=vggmodel.layers[-2].output\n",
        "predictions = Dense(2, activation=\"softmax\")(X)\n",
        "model_final = Model(inputs = vggmodel.input, outputs = predictions)\n",
        "opt = Adam(lr=0.0001)\n",
        "model_final.compile(loss = \"categorical_crossentropy\", optimizer = opt, metrics=[\"accuracy\"])\n",
        "model_final.summary()"
      ],
      "execution_count": null,
      "outputs": []
    },
    {
      "cell_type": "code",
      "metadata": {
        "id": "GzUoOTzi9Eud"
      },
      "source": [
        "from sklearn.model_selection import train_test_split\n",
        "from sklearn.preprocessing import LabelBinarizer\n",
        "class MyLabelBinarizer(LabelBinarizer):\n",
        "    def transform(self, y):\n",
        "        Y = super().transform(y)\n",
        "        if self.y_type_ == 'binary':\n",
        "            return np.hstack((Y, 1-Y))\n",
        "        else:\n",
        "            return Y\n",
        "    def inverse_transform(self, Y, threshold=None):\n",
        "        if self.y_type_ == 'binary':\n",
        "            return super().inverse_transform(Y[:, 0], threshold)\n",
        "        else:\n",
        "            return super().inverse_transform(Y, threshold)\n",
        "lenc = MyLabelBinarizer()\n",
        "Y =  lenc.fit_transform(y_new)\n",
        "X_train, X_test , y_train, y_test = train_test_split(X_new,Y,test_size=0.10)"
      ],
      "execution_count": null,
      "outputs": []
    },
    {
      "cell_type": "code",
      "metadata": {
        "id": "JPEZMpuE9K1D"
      },
      "source": [
        "trdata = ImageDataGenerator(horizontal_flip=True, vertical_flip=True, rotation_range=90)\n",
        "traindata = trdata.flow(x=X_train, y=y_train)\n",
        "tsdata = ImageDataGenerator(horizontal_flip=True, vertical_flip=True, rotation_range=90)\n",
        "testdata = tsdata.flow(x=X_test, y=y_test)"
      ],
      "execution_count": null,
      "outputs": []
    },
    {
      "cell_type": "code",
      "metadata": {
        "id": "mo4bSz1W9LtH"
      },
      "source": [
        "from keras.callbacks import ModelCheckpoint, EarlyStopping\n",
        "checkpoint = ModelCheckpoint(\"ieeercnn_vgg16_1.h5\", monitor='val_loss', verbose=1, save_best_only=True, save_weights_only=False, mode='auto', period=1)\n",
        "early = EarlyStopping(monitor='val_loss', min_delta=0, patience=100, verbose=1, mode='auto')\n",
        "hist = model_final.fit_generator(generator= traindata, steps_per_epoch= 20, epochs= 30, validation_data= testdata, validation_steps=2, callbacks=[checkpoint,early])"
      ],
      "execution_count": null,
      "outputs": []
    },
    {
      "cell_type": "code",
      "metadata": {
        "id": "BpvU9ibsOM2u"
      },
      "source": [
        "plot_loss(hist)\n",
        "plot_accuracy(hist)\n",
        "\n",
        "scores = model_final.evaluate(X_test, y_test, verbose=2)\n",
        "print(\" %s: %.2f%%\" % (model_final.metrics_names[1], scores[1]*100))"
      ],
      "execution_count": null,
      "outputs": []
    },
    {
      "cell_type": "code",
      "metadata": {
        "id": "N3cIDmwf9OpK"
      },
      "source": [
        "image_path = \"/content/drive/MyDrive/dataset_boats/train/20130412_150512_31795.jpg\" #20130412_151959_34446 #\"/content/drive/MyDrive/dataset_boats/venice_dataset/07.png\" \n",
        "#image_path = \"/content/drive/MyDrive/dataset_boats/venice_dataset/04.png\"\n",
        "img = cv2.imread(image_path)\n",
        "ss.setBaseImage(img)\n",
        "ss.switchToSelectiveSearchFast()\n",
        "ssresults = ss.process()\n",
        "imout = img.copy()\n",
        "for i,result in enumerate(ssresults):\n",
        "  print(result)\n",
        "  x,y,w,h = result\n",
        "  timage = imout[y:y+h,x:x+w]\n",
        "  resized = cv2.resize(timage, (224,224), interpolation = cv2.INTER_AREA)\n",
        "  img = np.expand_dims(resized, axis=0)\n",
        "  out= model_final.predict(img)\n",
        "  if out[0][0] > 0.10:\n",
        "    cv2.rectangle(imout, (x, y), (x+w, y+h), (0, 255, 0), 1, cv2.LINE_AA)\n",
        "  cv2_imshow(imout)\n",
        "  break"
      ],
      "execution_count": null,
      "outputs": []
    }
  ]
}